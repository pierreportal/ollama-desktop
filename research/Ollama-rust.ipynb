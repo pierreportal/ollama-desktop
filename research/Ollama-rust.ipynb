{
 "cells": [
  {
   "cell_type": "code",
   "execution_count": null,
   "id": "060b2f8b",
   "metadata": {},
   "outputs": [],
   "source": [
    ":dep surrealdb\n",
    ":dep tokio"
   ]
  },
  {
   "cell_type": "code",
   "execution_count": null,
   "id": "ae8c9c13",
   "metadata": {},
   "outputs": [],
   "source": [
    "use surrealdb::engine::remote::ws::Ws;\n",
    "use surrealdb::opt::auth::Root;\n",
    "use surrealdb::Surreal;"
   ]
  },
  {
   "cell_type": "code",
   "execution_count": null,
   "id": "9694ea49",
   "metadata": {},
   "outputs": [],
   "source": []
  }
 ],
 "metadata": {
  "kernelspec": {
   "display_name": "Rust",
   "language": "rust",
   "name": "rust"
  },
  "language_info": {
   "codemirror_mode": "rust",
   "file_extension": ".rs",
   "mimetype": "text/rust",
   "name": "Rust",
   "pygment_lexer": "rust",
   "version": ""
  }
 },
 "nbformat": 4,
 "nbformat_minor": 5
}
